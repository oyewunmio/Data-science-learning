{
 "cells": [
  {
   "cell_type": "code",
   "execution_count": 19,
   "metadata": {},
   "outputs": [],
   "source": [
    "# importing packages\n",
    "import numpy as np\n",
    "import pickle\n",
    "from sklearn import datasets\n",
    "import sklearn.metrics as sm\n",
    "from sklearn.svm import SVR\n",
    "from sklearn.utils import shuffle"
   ]
  },
  {
   "cell_type": "code",
   "execution_count": 4,
   "metadata": {},
   "outputs": [],
   "source": [
    "# loading the housing data\n",
    "data  = datasets.load_boston()\n",
    "\n",
    "# reading the data and shuffling it to avoid bias\n",
    "X, Y = shuffle(data.data, data.target, random_state=7)"
   ]
  },
  {
   "cell_type": "code",
   "execution_count": 5,
   "metadata": {},
   "outputs": [
    {
     "data": {
      "text/plain": [
       "array([[3.8497e+00, 0.0000e+00, 1.8100e+01, ..., 2.0200e+01, 3.9134e+02,\n",
       "        1.3270e+01],\n",
       "       [3.0410e-02, 0.0000e+00, 5.1900e+00, ..., 2.0200e+01, 3.9481e+02,\n",
       "        1.0560e+01],\n",
       "       [2.4103e-01, 0.0000e+00, 7.3800e+00, ..., 1.9600e+01, 3.9690e+02,\n",
       "        1.2790e+01],\n",
       "       ...,\n",
       "       [8.4054e-01, 0.0000e+00, 8.1400e+00, ..., 2.1000e+01, 3.0342e+02,\n",
       "        1.6510e+01],\n",
       "       [4.0110e-02, 8.0000e+01, 1.5200e+00, ..., 1.2600e+01, 3.9690e+02,\n",
       "        4.0800e+00],\n",
       "       [6.6640e-02, 0.0000e+00, 4.0500e+00, ..., 1.6600e+01, 3.9096e+02,\n",
       "        5.3300e+00]])"
      ]
     },
     "execution_count": 5,
     "metadata": {},
     "output_type": "execute_result"
    }
   ],
   "source": [
    "X"
   ]
  },
  {
   "cell_type": "code",
   "execution_count": 6,
   "metadata": {},
   "outputs": [
    {
     "data": {
      "text/plain": [
       "array([21.7, 18.5, 22.2, 20.4,  8.8,  8.3, 21.4, 23.6, 23.5, 19. , 10.2,\n",
       "       31.6, 18.4, 19.4, 44. , 23.2, 22. , 33.1, 13.2, 21.7, 16.7, 23.9,\n",
       "       42.3, 18.5, 14.6,  7.5, 33.4, 22. , 28.1, 24.8, 19.9, 24.8, 28.7,\n",
       "       14.1, 43.5, 20.4, 18.3, 13.4, 21. , 22. , 22.6, 13.9, 13.3, 26.5,\n",
       "       20. ,  9.5, 21.6, 22.6, 15.6, 23.1, 27.1, 25.2, 15. , 21.9,  9.6,\n",
       "       22.7, 18.3, 21.4, 20.5, 21.1, 24.5, 31. , 18.7, 18.7, 22.7, 50. ,\n",
       "       16.7, 23. , 20.4, 22.8, 24.8, 10.5, 18.2, 31.5, 23.8, 19.6, 12.7,\n",
       "       15.2, 31.2, 14.5, 17.8, 25. , 23. , 50. , 23.7, 25.1, 24.7, 16.8,\n",
       "       34.7, 23.3, 50. , 46.7, 43.1, 24.4, 24.1,  6.3, 26.4, 16.3, 17.2,\n",
       "       28. , 15.2, 16.6, 20.6, 16.4, 22. , 17.2, 13.5, 23.3, 26.2, 19.7,\n",
       "       13.1, 23.9, 18.2, 19.3,  7. , 18.5, 13.8, 33.4, 12.6, 19.6, 20.8,\n",
       "       25. , 21.7, 43.8, 13.4, 34.9, 24.5, 26.6, 36.5, 31.1, 22.6, 20.3,\n",
       "       18.4, 28.7, 23.1, 17.6, 35.4, 31.6,  8.5, 22.2, 10.4, 22.8, 23.9,\n",
       "       22.2, 32.9, 15.6, 29.8, 14.3, 28.4, 21.4, 23.1, 10.4, 20.1, 14.4,\n",
       "       14.9, 10.2, 20.8, 50. , 23.3, 25. , 23.7, 11.9, 23.9, 20.6, 23.8,\n",
       "       32. ,  8.3, 22.5, 37.2,  8.4, 23.4, 13.1, 17.8, 50. , 29.1, 19.4,\n",
       "       11.7, 30.1, 27.5, 26.7, 33.2, 33.1, 17.8, 19.9, 50. , 50. , 20. ,\n",
       "       22.5, 21. ,  7. ,  8.8, 19.8, 23.1, 23.4, 32.4, 20.1, 22.4, 42.8,\n",
       "       23.1, 16.1, 22. , 23.6, 10.9, 14. , 29.1, 18.6, 36. , 22.6, 17.4,\n",
       "       24.3, 41.3, 24.2, 18.4, 45.4, 21.2, 50. , 27.5, 16.5, 22.9, 18.6,\n",
       "       20.1, 41.7, 20.2, 24.6, 10.5, 13.6, 35.4, 32.2, 13.4, 25. , 13.5,\n",
       "       36.2, 26.4, 21.5, 22.5, 23.3, 27.9, 50. , 28.6, 38.7, 24. , 12.5,\n",
       "       16.1, 17. , 20.5, 18.7, 17.1, 32.7, 19.1, 19.8, 21.2, 20.6, 16. ,\n",
       "       19.5, 19.9, 21.4, 14.6, 12.7, 21.2, 14.2, 35.2, 27.5, 15.6, 23.1,\n",
       "       14.5, 16.8, 15.7, 17.5, 13.6, 29.9, 11.7, 13.3, 30.1, 24.1, 25. ,\n",
       "       20.9, 20. , 27. , 18.9, 11.8, 30.1, 16.2, 10.9, 18.9, 20.2, 23.2,\n",
       "       31.7, 21.7, 18. , 15.6, 20.1, 27.1, 21.9, 50. , 20.7, 16.5, 13.1,\n",
       "       14.8, 30.7, 33. , 20.9, 19.1, 19.4, 14.4, 24.4, 23.2, 21.6, 20.7,\n",
       "       22.8, 23. , 22.2, 28.4, 19.5,  8.1, 17.8, 21.2, 19.3, 50. ,  7.2,\n",
       "       19.2, 22.3, 20.8, 15.2, 25. ,  7.2, 11.5, 24.3, 20.3, 50. , 20.6,\n",
       "       34.9, 12.7, 20.3, 19.1, 14.3, 28.2, 17.7, 24.3, 26.6, 50. , 48.8,\n",
       "       17.1, 17.9, 20. , 15.1, 15. , 22.2, 11.9, 37.9, 19.5, 13. , 19.4,\n",
       "       11.3, 28.7, 17.5, 29. ,  8.5, 23.1, 19.5, 15.6,  5. , 37.6, 23.7,\n",
       "       37. , 15.4, 23.8, 46. , 21. , 22.3, 39.8, 27.5, 30.3, 20. , 18.1,\n",
       "       29.8, 14.1, 34.6, 13.8, 50. ,  7.4, 17.4, 22. , 21.1, 19.6, 30.8,\n",
       "       25. , 24.7, 18.9, 12. , 29. , 14.9, 36.1, 18.9, 16.2, 20.3, 33.2,\n",
       "       18.8, 13.4, 21.7, 18.5, 19.4, 13.8, 12.8, 20.4, 14.9, 21.7, 24.4,\n",
       "       16.6, 48.5, 11.8, 19.3, 19.6, 12.1, 22.9, 19.2, 21.8, 22.6, 31.5,\n",
       "       19.7, 20.1, 17.3, 13.1, 13.3, 36.2, 17.2, 18.2, 23. , 10.2, 22.4,\n",
       "        8.4, 17.8, 15.4, 44.8, 20.5, 13.8, 19.6, 25. , 19.8, 37.3, 48.3,\n",
       "       15. , 35.1, 21.7, 29.6, 22.9, 23.7, 26.6,  7.2, 13.8,  5.6, 36.4,\n",
       "       50. , 20.6, 19. , 21.8, 50. , 23.9, 17.1, 33.8, 24.7, 24.1, 19.9,\n",
       "       28.5, 14.1, 34.9, 24.8, 18.8,  8.7, 32.5, 15.3, 19.4, 24.6, 30.5,\n",
       "       21.2, 10.8, 32. , 22.9, 24.4, 22.1, 21.4, 24. , 11. , 23.2, 12.3,\n",
       "       16.1, 17.4, 19.1, 23.8,  9.7, 21.5, 25.3, 21.9, 17.5, 22.8, 14.5,\n",
       "        5. , 29.6, 24.5, 19.3, 27.9, 19.3, 22. , 20.6, 13.9, 33.3, 29.4])"
      ]
     },
     "execution_count": 6,
     "metadata": {},
     "output_type": "execute_result"
    }
   ],
   "source": [
    "Y"
   ]
  },
  {
   "cell_type": "code",
   "execution_count": 7,
   "metadata": {},
   "outputs": [],
   "source": [
    "# splitting the data into training and testing sets 80 : 20 split\n",
    "training_no = int(0.8 * len(X))\n",
    "\n",
    "# picking the training data \n",
    "X_train, Y_train = X[:training_no], Y[:training_no]\n",
    "\n",
    "# picking the testing data\n",
    "X_test, Y_test = X[training_no:], Y[training_no:]"
   ]
  },
  {
   "cell_type": "code",
   "execution_count": 9,
   "metadata": {},
   "outputs": [],
   "source": [
    "# creating a support vector regressor using a linear kernel\n",
    "# The C parameter represents the penalty of training error\n",
    "# If you increase the value of C, the model will fine-tune it more to fit the training data\n",
    "# But this might lead to overfitting and cause it to lose its generality\n",
    "# The epsilon parameter specifies a threshold\n",
    "# there is no penalty for training error if the predicted value is within this distance from the actual value:"
   ]
  },
  {
   "cell_type": "code",
   "execution_count": 10,
   "metadata": {},
   "outputs": [
    {
     "data": {
      "text/plain": [
       "SVR(C=1.0, cache_size=200, coef0=0.0, degree=3, epsilon=0.1, gamma='scale',\n",
       "    kernel='linear', max_iter=-1, shrinking=True, tol=0.001, verbose=False)"
      ]
     },
     "execution_count": 10,
     "metadata": {},
     "output_type": "execute_result"
    }
   ],
   "source": [
    "# creating support regression model object\n",
    "sv_regressor = SVR(kernel='linear', C=1.0, epsilon=0.1)\n",
    "\n",
    "# Training the support Vector regressor\n",
    "sv_regressor.fit(X_train, Y_train)"
   ]
  },
  {
   "cell_type": "code",
   "execution_count": 15,
   "metadata": {},
   "outputs": [
    {
     "name": "stdout",
     "output_type": "stream",
     "text": [
      "support vector regressor performance\n",
      "Mean squared error = 15.38\n",
      "Explained variance score = 0.82\n",
      "R2 score = 0.81\n"
     ]
    }
   ],
   "source": [
    "# predicting the output to evaluate the model performance\n",
    "Y_test_predict = sv_regressor.predict(X_test)\n",
    "\n",
    "# evaluating the perfomance of model using metrics\n",
    "mse = sm.mean_squared_error(Y_test, Y_test_predict)\n",
    "evs = sm.explained_variance_score(Y_test, Y_test_predict)\n",
    "\n",
    "# printing the model metrics\n",
    "print('support vector regressor performance')\n",
    "print('Mean squared error =', round(mse, 2))\n",
    "print('Explained variance score =', round(evs, 2))\n",
    "print(\"R2 score =\", round(sm.r2_score(Y_test, Y_test_predict), 2))"
   ]
  },
  {
   "cell_type": "code",
   "execution_count": 18,
   "metadata": {},
   "outputs": [
    {
     "name": "stdout",
     "output_type": "stream",
     "text": [
      "Predicted price: 18.521780107258536\n"
     ]
    }
   ],
   "source": [
    "# testing the regressor on test datapoint\n",
    "datapoint = [3.7, 0, 18.4, 1, 0.87, 5.95, 91, 2.5052, 26, 666, 20.2, 351.34, 15.27]\n",
    "\n",
    "# predicting the test data\n",
    "output1 = sv_regressor.predict([datapoint])[0]\n",
    "\n",
    "# printing the predicted house prices based on the attributes given \n",
    "print('Predicted price:', output1)"
   ]
  },
  {
   "cell_type": "code",
   "execution_count": 21,
   "metadata": {},
   "outputs": [],
   "source": [
    "# saving the model to be used for prediction later on\n",
    "regressor_model_file = 'boston_housing_prices_prediction_svr.pkl'\n",
    "\n",
    "# save the model\n",
    "with open (regressor_model_file, 'wb') as f:\n",
    "    pickle.dump(sv_regressor, f)"
   ]
  },
  {
   "cell_type": "code",
   "execution_count": null,
   "metadata": {},
   "outputs": [],
   "source": []
  }
 ],
 "metadata": {
  "kernelspec": {
   "display_name": "Python 3",
   "language": "python",
   "name": "python3"
  },
  "language_info": {
   "codemirror_mode": {
    "name": "ipython",
    "version": 3
   },
   "file_extension": ".py",
   "mimetype": "text/x-python",
   "name": "python",
   "nbconvert_exporter": "python",
   "pygments_lexer": "ipython3",
   "version": "3.7.5"
  }
 },
 "nbformat": 4,
 "nbformat_minor": 4
}
