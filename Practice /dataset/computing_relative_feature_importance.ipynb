{
 "cells": [
  {
   "cell_type": "code",
   "execution_count": 1,
   "metadata": {},
   "outputs": [],
   "source": [
    "# estimating the relative feature importance\n",
    "# when we work with a N-dimensional data points , we have to \n",
    "# understand that not all the features are equally important\n",
    "# some are discriminative than others. if we have this info\n",
    "# we can use it to reduce the dimensional, thereby reducing the \n",
    "# complexity and increasing the speed of the algorithm\n",
    "# sometimes a few features are completely redundant.\n",
    "# Hence they can be easily removed from the dataset."
   ]
  },
  {
   "cell_type": "code",
   "execution_count": 2,
   "metadata": {},
   "outputs": [],
   "source": [
    "# we will be using the Adaboost regressor to compute feature importance\n",
    "# The adaboost is an alogrithm that frequently used in conjunction with other\n",
    "# machine learning algorithms to improve their performance . "
   ]
  },
  {
   "cell_type": "code",
   "execution_count": 32,
   "metadata": {},
   "outputs": [],
   "source": [
    "# importing packages\n",
    "from time import sleep\n",
    "import numpy as np\n",
    "from sklearn.tree import DecisionTreeRegressor\n",
    "from sklearn.ensemble import AdaBoostRegressor\n",
    "from sklearn import datasets\n",
    "from sklearn import metrics\n",
    "from sklearn import model_selection\n",
    "from sklearn.utils import shuffle\n",
    "import matplotlib.pyplot as plt\n",
    "%matplotlib inline"
   ]
  },
  {
   "cell_type": "code",
   "execution_count": 6,
   "metadata": {},
   "outputs": [],
   "source": [
    "# loading our datasets \n",
    "housing_data = datasets.load_boston()\n",
    "\n",
    "# shuffle the data to avoid biases in our analysis\n",
    "X, Y = shuffle(housing_data.data, housing_data.target, random_state=7)"
   ]
  },
  {
   "cell_type": "code",
   "execution_count": 7,
   "metadata": {},
   "outputs": [],
   "source": [
    "# split the datasets into training and testing \n",
    "X_train, X_test, Y_train, Y_test = model_selection.train_test_split(X,Y,test_size=0.2,random_state=7)"
   ]
  },
  {
   "cell_type": "code",
   "execution_count": 11,
   "metadata": {},
   "outputs": [
    {
     "data": {
      "text/plain": [
       "AdaBoostRegressor(base_estimator=DecisionTreeRegressor(ccp_alpha=0.0,\n",
       "                                                       criterion='mse',\n",
       "                                                       max_depth=4,\n",
       "                                                       max_features=None,\n",
       "                                                       max_leaf_nodes=None,\n",
       "                                                       min_impurity_decrease=0.0,\n",
       "                                                       min_impurity_split=None,\n",
       "                                                       min_samples_leaf=1,\n",
       "                                                       min_samples_split=2,\n",
       "                                                       min_weight_fraction_leaf=0.0,\n",
       "                                                       presort='deprecated',\n",
       "                                                       random_state=None,\n",
       "                                                       splitter='best'),\n",
       "                  learning_rate=1.0, loss='linear', n_estimators=400,\n",
       "                  random_state=7)"
      ]
     },
     "execution_count": 11,
     "metadata": {},
     "output_type": "execute_result"
    }
   ],
   "source": [
    "# defining an Adaboost regressor model using a Decision Tree\n",
    "# regressor as the individual model\n",
    "regressor = AdaBoostRegressor(DecisionTreeRegressor(max_depth=4), n_estimators=400,random_state=7)\n",
    "\n",
    "# training the regressor model\n",
    "regressor.fit(X_train, Y_train)"
   ]
  },
  {
   "cell_type": "code",
   "execution_count": 18,
   "metadata": {},
   "outputs": [
    {
     "name": "stdout",
     "output_type": "stream",
     "text": [
      "\n",
      "ADABoost Regressor\n",
      "Mean Squared Error = 22.94\n",
      "Explained variance score = 0.79\n"
     ]
    }
   ],
   "source": [
    "# estimating the performance of the regressor by comparing \n",
    "# the predicted target value to the real value that we have\n",
    "Y_test_predict = regressor.predict(X_test)\n",
    "\n",
    "# printing the metrics that we need \n",
    "mse = metrics.mean_squared_error(Y_test, Y_test_predict)\n",
    "evs = metrics.explained_variance_score(Y_test, Y_test_predict)\n",
    "print('\\nADABoost Regressor')\n",
    "print('Mean Squared Error =', round(mse,2))\n",
    "print('Explained variance score =', round(evs,2))"
   ]
  },
  {
   "cell_type": "code",
   "execution_count": 25,
   "metadata": {},
   "outputs": [
    {
     "name": "stdout",
     "output_type": "stream",
     "text": [
      "Extracting features\n",
      "Features extracted successfully\n"
     ]
    }
   ],
   "source": [
    "# the regressor has an inbuilt method that we can use to compute the \n",
    "# relative feature importance\n",
    "print('Extracting features')\n",
    "sleep(2)\n",
    "feature_importances = regressor.feature_importances_\n",
    "feature_names = housing_data.feature_names\n",
    "print('Features extracted successfully')"
   ]
  },
  {
   "cell_type": "code",
   "execution_count": 28,
   "metadata": {},
   "outputs": [],
   "source": [
    "# normalizing the values of the relative feature importance\n",
    "feature_importances = 100.0 * (feature_importances / max(feature_importances))\n",
    "\n",
    "# sorting them out so they can be plotted\n",
    "index_sorted = np.flipud(np.argsort(feature_importances))"
   ]
  },
  {
   "cell_type": "code",
   "execution_count": 34,
   "metadata": {},
   "outputs": [
    {
     "data": {
      "image/png": "[encoded data removed]",
      "text/plain": [
       "<Figure size 432x288 with 1 Axes>"
      ]
     },
     "metadata": {
      "needs_background": "light"
     },
     "output_type": "display_data"
    }
   ],
   "source": [
    "# arranging the ticks on the X_axis for the bar grapg\n",
    "pos = np.arange(index_sorted.shape[0]) + 0.5\n",
    "\n",
    "# plotting the bar graph\n",
    "plt.figure()\n",
    "plt.bar(pos, feature_importances[index_sorted], align='center')\n",
    "plt.xticks(pos, feature_names[index_sorted])\n",
    "plt.ylabel('Relative Importance')\n",
    "plt.title('Feature importance using AdaBoost regressor')\n",
    "plt.show()"
   ]
  },
  {
   "cell_type": "code",
   "execution_count": null,
   "metadata": {},
   "outputs": [],
   "source": []
  }
 ],
 "metadata": {
  "kernelspec": {
   "display_name": "Python 3",
   "language": "python",
   "name": "python3"
  },
  "language_info": {
   "codemirror_mode": {
    "name": "ipython",
    "version": 3
   },
   "file_extension": ".py",
   "mimetype": "text/x-python",
   "name": "python",
   "nbconvert_exporter": "python",
   "pygments_lexer": "ipython3",
   "version": "3.7.5"
  }
 },
 "nbformat": 4,
 "nbformat_minor": 4
}
