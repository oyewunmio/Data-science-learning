{
 "cells": [
  {
   "cell_type": "code",
   "execution_count": 1,
   "metadata": {},
   "outputs": [],
   "source": [
    "# so far so good ..we have been training our model either the \n",
    "# extra random forest or the random forests with some sets of \n",
    "# parameters that will choose ourselves not knowing whether the \n",
    "# parameters are perfect or not..\n",
    "# Therefore we use grid search which allows us to specify some\n",
    "# set of parameters and the classifier will automatically run \n",
    "# various configuration to figure the best combination of parameters\n",
    "# to produce the best model depending on the particular metrics\n",
    "# we want to be concerned with"
   ]
  },
  {
   "cell_type": "code",
   "execution_count": 2,
   "metadata": {},
   "outputs": [],
   "source": [
    "# importing packages\n",
    "import numpy as np\n",
    "from sklearn.metrics import classification_report\n",
    "from sklearn.model_selection import GridSearchCV, train_test_split\n",
    "from sklearn import ensemble\n",
    "from utilities import visualize_classifier\n",
    "import matplotlib.pyplot as plt\n",
    "%matplotlib inline"
   ]
  },
  {
   "cell_type": "code",
   "execution_count": 3,
   "metadata": {},
   "outputs": [],
   "source": [
    "# loading our data\n",
    "input_file = 'data_random_forests.txt'\n",
    "\n",
    "# reading our data\n",
    "data = np.loadtxt(input_file, delimiter=',')\n",
    "X,Y = data[:, :-1], data[:, -1]"
   ]
  },
  {
   "cell_type": "code",
   "execution_count": 5,
   "metadata": {},
   "outputs": [],
   "source": [
    "# separating the data into classes based on their labels\n",
    "Class_0 = np.array(X[Y==0])\n",
    "Class_1 = np.array(X[Y==1])\n",
    "Class_2 = np.array(X[Y==2])"
   ]
  },
  {
   "cell_type": "code",
   "execution_count": 6,
   "metadata": {},
   "outputs": [],
   "source": [
    "# splitting the data into training and testing datasets\n",
    "X_train, X_test, Y_train, Y_test = train_test_split(X,Y, test_size=0.25, random_state=5)"
   ]
  },
  {
   "cell_type": "code",
   "execution_count": 7,
   "metadata": {},
   "outputs": [
    {
     "name": "stdout",
     "output_type": "stream",
     "text": [
      "675 675\n",
      "225 225\n",
      "900 900\n"
     ]
    }
   ],
   "source": [
    "print(len(X_train), len(Y_train))\n",
    "print(len(X_test), len(Y_test))\n",
    "print(len(X), len(Y))"
   ]
  },
  {
   "cell_type": "code",
   "execution_count": 15,
   "metadata": {},
   "outputs": [
    {
     "name": "stdout",
     "output_type": "stream",
     "text": [
      "### searching the optimal parameters for precision_weighted\n",
      "{'max_depth': 2, 'n_estimators': 100} --> 0.85\n",
      "{'max_depth': 4, 'n_estimators': 100} --> 0.85\n",
      "{'max_depth': 7, 'n_estimators': 100} --> 0.85\n",
      "{'max_depth': 12, 'n_estimators': 100} --> 0.85\n",
      "{'max_depth': 16, 'n_estimators': 100} --> 0.85\n",
      "{'max_depth': 4, 'n_estimators': 25} --> 0.85\n",
      "{'max_depth': 4, 'n_estimators': 50} --> 0.85\n",
      "{'max_depth': 4, 'n_estimators': 100} --> 0.85\n",
      "{'max_depth': 4, 'n_estimators': 250} --> 0.85\n",
      "\n",
      "Best parameters: {'max_depth': 2, 'n_estimators': 100}\n",
      "\n",
      "Performance report:\n",
      "\n",
      "              precision    recall  f1-score   support\n",
      "\n",
      "     class-0       0.94      0.81      0.87        79\n",
      "     class-1       0.81      0.86      0.83        70\n",
      "     class-2       0.83      0.91      0.87        76\n",
      "\n",
      "    accuracy                           0.86       225\n",
      "   macro avg       0.86      0.86      0.86       225\n",
      "weighted avg       0.86      0.86      0.86       225\n",
      "\n",
      "### searching the optimal parameters for recall_weighted\n",
      "{'max_depth': 2, 'n_estimators': 100} --> 0.843\n",
      "{'max_depth': 4, 'n_estimators': 100} --> 0.843\n",
      "{'max_depth': 7, 'n_estimators': 100} --> 0.843\n",
      "{'max_depth': 12, 'n_estimators': 100} --> 0.843\n",
      "{'max_depth': 16, 'n_estimators': 100} --> 0.843\n",
      "{'max_depth': 4, 'n_estimators': 25} --> 0.843\n",
      "{'max_depth': 4, 'n_estimators': 50} --> 0.843\n",
      "{'max_depth': 4, 'n_estimators': 100} --> 0.843\n",
      "{'max_depth': 4, 'n_estimators': 250} --> 0.843\n",
      "\n",
      "Best parameters: {'max_depth': 2, 'n_estimators': 100}\n",
      "\n",
      "Performance report:\n",
      "\n",
      "              precision    recall  f1-score   support\n",
      "\n",
      "     class-0       0.94      0.81      0.87        79\n",
      "     class-1       0.81      0.86      0.83        70\n",
      "     class-2       0.83      0.91      0.87        76\n",
      "\n",
      "    accuracy                           0.86       225\n",
      "   macro avg       0.86      0.86      0.86       225\n",
      "weighted avg       0.86      0.86      0.86       225\n",
      "\n"
     ]
    }
   ],
   "source": [
    "# now we specify the grid parameters that we want the classifier to test\n",
    "# usually we keep one parameter constant and vary the other parameter\n",
    "# and then do it vice versa for the other parameter\n",
    "parameter_grid = [{'n_estimators':[100], 'max_depth':[2,4,7,12,16]},\n",
    "                  {'max_depth':[4],'n_estimators':[25,50,100,250]}]\n",
    "\n",
    "# as i said earlier we define now the metrics that we want the \n",
    "# classifier to use to find the best combination of parameters\n",
    "metrics = ['precision_weighted', 'recall_weighted']\n",
    "\n",
    "# now for each metrics that we have, we need to run the grid search\n",
    "# where we also train the classifier for a particular combination of parameters\n",
    "class_names = ['class-0', 'class-1', 'class-2']\n",
    "\n",
    "for metric in metrics:\n",
    "    print('### searching the optimal parameters for', metric)\n",
    "    # creating model classifier object with parameters\n",
    "    classifier = GridSearchCV(ensemble.ExtraTreesClassifier(random_state=0),\n",
    "                             parameter_grid, cv=5, scoring=metric)\n",
    "    # training the model classifier\n",
    "    classifier.fit(X_train, Y_train)\n",
    "    # printing the score for each parameter combination\n",
    "    for avg_score in classifier.cv_results_['mean_test_score']:\n",
    "        for params in classifier.cv_results_['params']:\n",
    "            print(params, '-->',round(avg_score,3))\n",
    "        break\n",
    "    print(\"\\nBest parameters:\", classifier.best_params_)\n",
    "    # printing the performance report \n",
    "    Y_test_predict = classifier.predict(X_test)\n",
    "    print(\"\\nPerformance report:\\n\")\n",
    "    print(classification_report(Y_test, Y_test_predict,target_names=class_names))\n"
   ]
  },
  {
   "cell_type": "code",
   "execution_count": null,
   "metadata": {},
   "outputs": [],
   "source": []
  }
 ],
 "metadata": {
  "kernelspec": {
   "display_name": "Python 3",
   "language": "python",
   "name": "python3"
  },
  "language_info": {
   "codemirror_mode": {
    "name": "ipython",
    "version": 3
   },
   "file_extension": ".py",
   "mimetype": "text/x-python",
   "name": "python",
   "nbconvert_exporter": "python",
   "pygments_lexer": "ipython3",
   "version": "3.7.5"
  }
 },
 "nbformat": 4,
 "nbformat_minor": 4
}
