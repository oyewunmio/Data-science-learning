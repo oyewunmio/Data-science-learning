{
 "cells": [
  {
   "cell_type": "code",
   "execution_count": null,
   "metadata": {},
   "outputs": [],
   "source": [
    "# i shall be predicting the number of vehicles that shall be \n",
    "# passing the san franciso road \n",
    "# the data is in the format Tuesday,00:00,San Francisco,no,3\n",
    "# Day of the week, time of the day, opponent team, binary value\n",
    "# indicating whether or not a baseball game is currently going on (yes/no), \n",
    "# number of vehicles passing by"
   ]
  },
  {
   "cell_type": "code",
   "execution_count": 2,
   "metadata": {},
   "outputs": [],
   "source": [
    "# importing packages\n",
    "from time import sleep\n",
    "import numpy as np\n",
    "from sklearn import metrics \n",
    "from sklearn.ensemble import ExtraTreesRegressor\n",
    "from sklearn import model_selection, preprocessing\n",
    "import matplotlib.pyplot as plt\n",
    "%matplotlib inline"
   ]
  },
  {
   "cell_type": "code",
   "execution_count": 3,
   "metadata": {},
   "outputs": [],
   "source": [
    "# loading our data\n",
    "input_file = 'traffic_data.txt'\n",
    "\n",
    "# reading our data\n",
    "data = []\n",
    "with open(input_file, 'r') as f:\n",
    "    for line in f.readlines():\n",
    "        items = line[:-1].split(',') # this would remove the newline escape sequence\n",
    "        data.append(items)\n",
    "data = np.array(data)"
   ]
  },
  {
   "cell_type": "code",
   "execution_count": 4,
   "metadata": {},
   "outputs": [
    {
     "name": "stdout",
     "output_type": "stream",
     "text": [
      "Converting string data to numerical data...\n",
      "<U13\n",
      "Conversion completed\n"
     ]
    }
   ],
   "source": [
    "# time to encode the non-numerical features in the data and we\n",
    "# have to be sure not to encode a numerical features.\n",
    "# each feature that has to be encoded need to have a separate\n",
    "# label encoder....that we need to keep track off since will be needing them \n",
    "# when we want to compute the output for an unknown data point\n",
    "print('Converting string data to numerical data...')\n",
    "sleep(2)\n",
    "label_encoder = []\n",
    "print(data.dtype)\n",
    "X_encoded = np.empty(data.shape) # initializing an empty array based on the data shape\n",
    "for i ,item in enumerate(data[0]):\n",
    "    if item.isdigit(): # if the item is digit it should be now put into right column in the X_encoded\n",
    "        X_encoded[:, i] = data[:, i]\n",
    "    else:\n",
    "        label_encoder.append(preprocessing.LabelEncoder()) \n",
    "        X_encoded[:, i] = label_encoder[-1].fit_transform(data[:, i]) # now the textual data has been coded into numerical data\n",
    "print('Conversion completed')\n",
    "\n",
    "# reading the transformed data and casting it to integer datatype\n",
    "X = X_encoded[:, :-1].astype(int)\n",
    "Y = X_encoded[:, -1].astype(int)"
   ]
  },
  {
   "cell_type": "code",
   "execution_count": 5,
   "metadata": {},
   "outputs": [
    {
     "name": "stdout",
     "output_type": "stream",
     "text": [
      "[[  4  24   4   0]\n",
      " [  2 217   4   0]\n",
      " [  1 121   4   0]\n",
      " ...\n",
      " [  0 252   6   1]\n",
      " [  3 241  11   0]\n",
      " [  1 260  11   1]]\n"
     ]
    }
   ],
   "source": [
    "# spltting our data into training and testing dataset\n",
    "X_train, X_test, Y_train, Y_test = model_selection.train_test_split(X, Y, test_size=0.25, random_state=5)\n",
    "print(X_test)"
   ]
  },
  {
   "cell_type": "code",
   "execution_count": 6,
   "metadata": {},
   "outputs": [
    {
     "data": {
      "text/plain": [
       "ExtraTreesRegressor(bootstrap=False, ccp_alpha=0.0, criterion='mse',\n",
       "                    max_depth=4, max_features='auto', max_leaf_nodes=None,\n",
       "                    max_samples=None, min_impurity_decrease=0.0,\n",
       "                    min_impurity_split=None, min_samples_leaf=1,\n",
       "                    min_samples_split=2, min_weight_fraction_leaf=0.0,\n",
       "                    n_estimators=100, n_jobs=None, oob_score=False,\n",
       "                    random_state=0, verbose=0, warm_start=False)"
      ]
     },
     "execution_count": 6,
     "metadata": {},
     "output_type": "execute_result"
    }
   ],
   "source": [
    "# creating an extremely random forests regressor paramater\n",
    "params = {'n_estimators':100, 'max_depth':4, 'random_state':0}\n",
    "\n",
    "# creating an extremely random forests regressor model\n",
    "regressor = ExtraTreesRegressor(**params)\n",
    "\n",
    "# Training the model\n",
    "regressor.fit(X_train, Y_train)"
   ]
  },
  {
   "cell_type": "code",
   "execution_count": 7,
   "metadata": {},
   "outputs": [
    {
     "name": "stdout",
     "output_type": "stream",
     "text": [
      "[ 4 24  4  0]\n",
      "Mean absoulte error: 7.424465944802767\n"
     ]
    }
   ],
   "source": [
    "# computing the regressor performance on testing data \n",
    "# by predicting Y that we have from the value of X_test\n",
    "# this would help us to calculate our model performance\n",
    "Y_test_predict = regressor.predict(X_test)\n",
    "print(X_test[0])\n",
    "# computing our metric \n",
    "mae = metrics.mean_absolute_error(Y_test, Y_test_predict)\n",
    "print('Mean absoulte error:', mae)"
   ]
  },
  {
   "cell_type": "code",
   "execution_count": 10,
   "metadata": {},
   "outputs": [
    {
     "name": "stdout",
     "output_type": "stream",
     "text": [
      "Computing results for new datasets\n",
      "datapoints encoded into -->\n",
      " [[  2 124   1   0]\n",
      " [  5 258   0   1]\n",
      " [  4  12   1   0]]\n",
      "\n",
      "Predicted traffic for: 26.0\n",
      "\n",
      "Predicted traffic for: 25.0\n",
      "\n",
      "Predicted traffic for: 6.0\n"
     ]
    }
   ],
   "source": [
    "# lets test our model with a new data instance\n",
    "print('Computing results for new datasets')\n",
    "datapoints =np.array([['Saturday', '10:20', 'Atlanta', 'no'],['Tuesday','21:30','Arizona','yes'], ['Thursday', '01:00', 'Atlanta', 'no']] )\n",
    "# we have to encode our datapoints to numerical datapoints\n",
    "datapoints_encoded = np.empty(datapoints.shape) # initializing an empty array based on the data shape\n",
    "count = 0\n",
    "for i ,item in enumerate(datapoints[0]):\n",
    "    if item.isdigit(): # if the item is digit it should be now put into right column in the X_encoded\n",
    "        datapoints_encoded[:, i] = datapoints[:, i]\n",
    "    else:\n",
    "        datapoints_encoded[:, i] = label_encoder[count].transform(datapoints[:, i])    \n",
    "        count = count + 1\n",
    "datapoints_encoded = datapoints_encoded.astype(int)\n",
    "print('datapoints encoded into -->\\n',datapoints_encoded)\n",
    "\n",
    "# Predict the output for the test datapoint\n",
    "for i in datapoints_encoded:\n",
    "    results = regressor.predict([i])\n",
    "    print('\\nPredicted traffic for:',results[0].round(0))"
   ]
  },
  {
   "cell_type": "code",
   "execution_count": null,
   "metadata": {},
   "outputs": [],
   "source": []
  }
 ],
 "metadata": {
  "kernelspec": {
   "display_name": "Python 3",
   "language": "python",
   "name": "python3"
  },
  "language_info": {
   "codemirror_mode": {
    "name": "ipython",
    "version": 3
   },
   "file_extension": ".py",
   "mimetype": "text/x-python",
   "name": "python",
   "nbconvert_exporter": "python",
   "pygments_lexer": "ipython3",
   "version": "3.7.5"
  }
 },
 "nbformat": 4,
 "nbformat_minor": 4
}
