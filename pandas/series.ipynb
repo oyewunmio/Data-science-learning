{
 "cells": [
  {
   "cell_type": "code",
   "execution_count": 1,
   "metadata": {},
   "outputs": [],
   "source": [
    "# THE PANDAS SERIES\n",
    "# The pandas SERIES is the base data structure of pandas. A series is similar to a NumPy array, \n",
    "# but it differs by having an index, which allows for much richer lookup of items\n",
    "# instead of just a zero-based array index value."
   ]
  },
  {
   "cell_type": "code",
   "execution_count": 2,
   "metadata": {},
   "outputs": [],
   "source": [
    "import pandas as pd"
   ]
  },
  {
   "cell_type": "code",
   "execution_count": 3,
   "metadata": {},
   "outputs": [
    {
     "name": "stdout",
     "output_type": "stream",
     "text": [
      "0    1\n",
      "1    2\n",
      "2    3\n",
      "3    4\n",
      "dtype: int64 \n",
      "\n",
      "2 \n",
      "\n",
      "1    2\n",
      "3    4\n",
      "dtype: int64\n"
     ]
    }
   ],
   "source": [
    "# creating a four item Series\n",
    "s = pd.Series([1,2,3,4])\n",
    "print(s,'\\n')\n",
    "'''The output consists of two columns of information. The first is the index and the second is\n",
    "the data in the SERIES . Each row of the output represents the index label (in the first\n",
    "column) and then the value associated with that label.'''\n",
    "\n",
    "'''Because this SERIES was created without specifying an index (something we will do next),\n",
    "pandas automatically creates an integer index with labels starting at 0 and increasing by one\n",
    "for each data item.'''\n",
    "\n",
    "# getting the value at label 1\n",
    "print(s[1],'\\n')\n",
    "# retrieving multiple items by specifying their labels in a list\n",
    "# returning a series with the row labels of 1 and 3\n",
    "print(s[[1,3]])"
   ]
  },
  {
   "cell_type": "code",
   "execution_count": 4,
   "metadata": {},
   "outputs": [
    {
     "name": "stdout",
     "output_type": "stream",
     "text": [
      "a    1\n",
      "b    2\n",
      "c    3\n",
      "d    4\n",
      "dtype: int64 \n",
      "\n",
      "a    1\n",
      "d    4\n",
      "dtype: int64 \n",
      "\n",
      "a    1\n",
      "d    4\n",
      "dtype: int64 \n",
      "\n",
      "Index(['a', 'b', 'c', 'd'], dtype='object')\n"
     ]
    }
   ],
   "source": [
    "'''A series object can be created with a user-defined index by using the JOEFY parameter\n",
    "and specifying the index labels. The following creates a 4FSJFT with the same values but\n",
    "with an index consisting of string values:'''\n",
    "s = pd.Series([1,2,3,4], index=['a','b','c','d'])\n",
    "print(s,'\\n')\n",
    "\n",
    "'''Data in the series object can now be accessed by those alphanumeric index labels. The\n",
    "following retrieves the values at index labels a and d :'''\n",
    "print(s[['a', 'd']],'\\n')\n",
    "\n",
    "'''It is still possible to refer to the elements of this series object by their numerical 0-based\n",
    "position. :'''\n",
    "print(s[[0, 3]], '\\n')\n",
    "\n",
    "'''We can examine the index of a series using the .index property:'''\n",
    "print(s.index)"
   ]
  },
  {
   "cell_type": "code",
   "execution_count": 5,
   "metadata": {},
   "outputs": [
    {
     "name": "stdout",
     "output_type": "stream",
     "text": [
      "2019-01-01    78\n",
      "2019-01-02    89\n",
      "2019-01-03    45\n",
      "2019-01-04    67\n",
      "2019-01-05    67\n",
      "2019-01-06    58\n",
      "2019-01-07    48\n",
      "2019-01-08    83\n",
      "2019-01-09    87\n",
      "2019-01-10    34\n",
      "Freq: D, dtype: int64\n",
      "the temp for 2019-01-06 is 58\n"
     ]
    }
   ],
   "source": [
    "# an example of the usage of pandas series \n",
    "# we use it to represent a time-series that associates date/time index with values\n",
    "# so we shall be creating a series whose index is series of dates between two specified dates\n",
    "dates_index = pd.date_range('2019-01-01', '2019-01-10')\n",
    "\n",
    "'''This has created a special index in pandas called %BUFUJNF*OEFY , which is a specialized\n",
    "type of pandas index that is optimized to index data with dates and times.'''\n",
    "\n",
    "# let create a series with values (representing temperatures) \n",
    "# for each of the values/months in the index\n",
    "temps = pd.Series([78,89,45,67,67,58,48,83,87,34], index=dates_index)\n",
    "print(temps)\n",
    "\n",
    "'''This type of series with a DateTimeIndex is referred to as a time series.'''\n",
    "\n",
    "# We can look up a temperature on a specific data by using the date as a string:\n",
    "# what's the temperature for 2019-01-06\n",
    "print('the temp for 2019-01-06 is',temps['2019-01-06'])"
   ]
  },
  {
   "cell_type": "code",
   "execution_count": 6,
   "metadata": {},
   "outputs": [
    {
     "name": "stdout",
     "output_type": "stream",
     "text": [
      "2019-01-01    30\n",
      "2019-01-02    50\n",
      "2019-01-03     3\n",
      "2019-01-04    -9\n",
      "2019-01-05    30\n",
      "2019-01-06    30\n",
      "2019-01-07     0\n",
      "2019-01-08   -10\n",
      "2019-01-09    66\n",
      "2019-01-10   -26\n",
      "Freq: D, dtype: int64\n"
     ]
    },
    {
     "data": {
      "text/plain": [
       "-9"
      ]
     },
     "execution_count": 6,
     "metadata": {},
     "output_type": "execute_result"
    }
   ],
   "source": [
    "'''Two series objects can be applied to each other with an arithmetic operation. The\n",
    "following code creates a second series and calculates the difference in temperature\n",
    "between the two:'''\n",
    "\n",
    "# creating a second series of temp and using the same index\n",
    "temp2 = pd.Series([48,39,42,76,37,28,48,93,21,60], index=dates_index)\n",
    "\n",
    "# the following aligns the two by their index values and calculates\n",
    "# the difference at those matching labels\n",
    "temp_diffs = temps - temp2\n",
    "print(temp_diffs)\n",
    "\n",
    "'''note:The result of an arithmetic operation (+, -, /, *, ...) on two series objects\n",
    "that are non-scalar values returns another series object.'''\n",
    "\n",
    "# Since the index is not integer, we can also look up values by 0-based value:\n",
    "temp_diffs[3]"
   ]
  },
  {
   "cell_type": "code",
   "execution_count": 7,
   "metadata": {},
   "outputs": [
    {
     "data": {
      "text/plain": [
       "16.4"
      ]
     },
     "execution_count": 7,
     "metadata": {},
     "output_type": "execute_result"
    }
   ],
   "source": [
    "# using pandas descriptive statistical methods\n",
    "temp_diffs.mean()"
   ]
  },
  {
   "cell_type": "code",
   "execution_count": null,
   "metadata": {},
   "outputs": [],
   "source": []
  }
 ],
 "metadata": {
  "kernelspec": {
   "display_name": "Python 3",
   "language": "python",
   "name": "python3"
  },
  "language_info": {
   "codemirror_mode": {
    "name": "ipython",
    "version": 3
   },
   "file_extension": ".py",
   "mimetype": "text/x-python",
   "name": "python",
   "nbconvert_exporter": "python",
   "pygments_lexer": "ipython3",
   "version": "3.7.5"
  }
 },
 "nbformat": 4,
 "nbformat_minor": 4
}
