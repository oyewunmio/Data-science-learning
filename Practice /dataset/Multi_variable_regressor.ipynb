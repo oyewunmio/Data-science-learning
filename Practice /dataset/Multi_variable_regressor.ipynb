{
 "cells": [
  {
   "cell_type": "code",
   "execution_count": 2,
   "metadata": {},
   "outputs": [],
   "source": [
    "# importing packages\n",
    "import pickle\n",
    "import numpy as np\n",
    "from sklearn import linear_model\n",
    "import sklearn.metrics as sm\n",
    "from sklearn.preprocessing import PolynomialFeatures\n",
    "import matplotlib.pyplot as plt\n",
    "%matplotlib inline"
   ]
  },
  {
   "cell_type": "code",
   "execution_count": 3,
   "metadata": {},
   "outputs": [],
   "source": [
    "# loading the data\n",
    "input_file = 'data_multivar_regr.txt'"
   ]
  },
  {
   "cell_type": "code",
   "execution_count": 6,
   "metadata": {},
   "outputs": [
    {
     "data": {
      "text/plain": [
       "array([[ 2.06,  3.48,  7.21, 15.69],\n",
       "       [ 6.37,  3.01,  7.27, 15.34],\n",
       "       [ 1.18,  1.2 ,  5.42,  0.66],\n",
       "       ...,\n",
       "       [ 3.61,  2.22,  5.77,  6.33],\n",
       "       [ 1.38,  2.69, -0.33, 26.66],\n",
       "       [ 5.35,  5.  ,  5.08, 25.13]])"
      ]
     },
     "execution_count": 6,
     "metadata": {},
     "output_type": "execute_result"
    }
   ],
   "source": [
    "# reading the data\n",
    "data = np.loadtxt(input_file, delimiter=',')\n",
    "X=data[]"
   ]
  },
  {
   "cell_type": "code",
   "execution_count": 9,
   "metadata": {},
   "outputs": [],
   "source": [
    "# splitting the data into training and testing sets 80 : 20 split\n",
    "training_no = int(0.8 * len(X))\n",
    "testing_no = int(0.2 * len(X))\n",
    "\n",
    "# picking the training data\n",
    "X_train, Y_train = X[:training_no], Y[:training_no]\n",
    "\n",
    "# picking the testing data\n",
    "X_test, Y_test = X[training_no:], Y[training_no:]\n"
   ]
  },
  {
   "cell_type": "code",
   "execution_count": 10,
   "metadata": {},
   "outputs": [
    {
     "data": {
      "text/plain": [
       "LinearRegression(copy_X=True, fit_intercept=True, n_jobs=None, normalize=False)"
      ]
     },
     "execution_count": 10,
     "metadata": {},
     "output_type": "execute_result"
    }
   ],
   "source": [
    "# creating the regression model object\n",
    "linear_regressor = linear_model.LinearRegression()\n",
    "\n",
    "# training the model\n",
    "linear_regressor.fit(X_train, Y_train)"
   ]
  },
  {
   "cell_type": "code",
   "execution_count": 11,
   "metadata": {},
   "outputs": [],
   "source": [
    "# predicting the output\n",
    "Y_test_predict = linear_regressor.predict(X_test)"
   ]
  },
  {
   "cell_type": "code",
   "execution_count": 12,
   "metadata": {},
   "outputs": [
    {
     "name": "stdout",
     "output_type": "stream",
     "text": [
      "linear regressor performance\n",
      "Mean absolute error =  3.58\n",
      "Mean squared error =  20.31\n",
      "Median absolute error = 2.99\n",
      "Explain variance score = 0.86\n",
      "R2 score = 0.86\n"
     ]
    }
   ],
   "source": [
    "# computing the performance metrics\n",
    "print('linear regressor performance')\n",
    "print('Mean absolute error = ',round(sm.mean_absolute_error(Y_test, Y_test_predict),2))\n",
    "print('Mean squared error = ',round(sm.mean_squared_error(Y_test, Y_test_predict),2))\n",
    "print('Median absolute error =',round(sm.median_absolute_error(Y_test, Y_test_predict),2))\n",
    "print('Explain variance score =', round(sm.explained_variance_score(Y_test, Y_test_predict), 2))\n",
    "print(\"R2 score =\", round(sm.r2_score(Y_test, Y_test_predict), 2))"
   ]
  },
  {
   "cell_type": "code",
   "execution_count": 16,
   "metadata": {},
   "outputs": [
    {
     "data": {
      "text/plain": [
       "LinearRegression(copy_X=True, fit_intercept=True, n_jobs=None, normalize=False)"
      ]
     },
     "execution_count": 16,
     "metadata": {},
     "output_type": "execute_result"
    }
   ],
   "source": [
    "# creating and training a polynomial regressor of degree 10 for the multivariable independent variables\n",
    "\n",
    "# creating the polynomial regresssor\n",
    "polynomial = PolynomialFeatures(degree=10)\n",
    "\n",
    "# transforming to a polynomial\n",
    "X_train_transformed = polynomial.fit_transform(X_train)\n",
    "\n",
    "# data to be used to predict Y and compare which is better in prediction either linear or polynomial regression\n",
    "datapoint = [[7.75, 6.35, 5.56]]\n",
    "\n",
    "# transforming the datapoint to a polynomial for the polynomial model to understand it\n",
    "poly_datapoint = polynomial.fit_transform(datapoint)\n",
    "\n",
    "# creating a polynomial linear model object\n",
    "poly_linear_model = linear_model.LinearRegression()\n",
    "\n",
    "# training the polynomial model\n",
    "poly_linear_model.fit(X_train_transformed, Y_train)\n"
   ]
  },
  {
   "cell_type": "code",
   "execution_count": 17,
   "metadata": {},
   "outputs": [],
   "source": [
    "# predicting the dependent variable Y based on the datapoint values\n",
    "# predicting with linear regression\n",
    "output1 = linear_regressor.predict(datapoint)\n",
    "\n",
    "# predicting with polynomial regression\n",
    "output2 = poly_linear_model.predict(poly_datapoint)\n"
   ]
  },
  {
   "cell_type": "code",
   "execution_count": 18,
   "metadata": {},
   "outputs": [
    {
     "name": "stdout",
     "output_type": "stream",
     "text": [
      "Linear regression model\n",
      "[36.05286276]\n",
      "Polynomial regression model\n",
      "[41.45234835]\n"
     ]
    }
   ],
   "source": [
    "# printing the prediction of the respective regression model\n",
    "print('Linear regression model')\n",
    "print(output1)\n",
    "print('Polynomial regression model')\n",
    "print(output2)"
   ]
  },
  {
   "cell_type": "code",
   "execution_count": 27,
   "metadata": {},
   "outputs": [],
   "source": [
    "# saving the model to be used for prediction\n",
    "# since there are two models, we shall be saving the polynomial model since it is better in prediction\n",
    "# model persistence\n",
    "regressor_model_file = 'multivariable_regressor_model.pkl'\n",
    "\n",
    "# save the model\n",
    "with open(regressor_model_file, 'wb') as f:\n",
    "    pickle.dump(poly_linear_model, f)"
   ]
  },
  {
   "cell_type": "code",
   "execution_count": 26,
   "metadata": {},
   "outputs": [],
   "source": [
    "# loading the saved model\n",
    "with open(regressor_model_file, 'rb') as f:\n",
    "    regressor_model = pickle.load(f)"
   ]
  },
  {
   "cell_type": "code",
   "execution_count": 25,
   "metadata": {},
   "outputs": [
    {
     "data": {
      "text/plain": [
       "array([41.45234835])"
      ]
     },
     "execution_count": 25,
     "metadata": {},
     "output_type": "execute_result"
    }
   ],
   "source": [
    "regressor_model.predict(poly_datapoint)"
   ]
  },
  {
   "cell_type": "code",
   "execution_count": null,
   "metadata": {},
   "outputs": [],
   "source": []
  }
 ],
 "metadata": {
  "kernelspec": {
   "display_name": "Python 3",
   "language": "python",
   "name": "python3"
  },
  "language_info": {
   "codemirror_mode": {
    "name": "ipython",
    "version": 3
   },
   "file_extension": ".py",
   "mimetype": "text/x-python",
   "name": "python",
   "nbconvert_exporter": "python",
   "pygments_lexer": "ipython3",
   "version": "3.7.5"
  }
 },
 "nbformat": 4,
 "nbformat_minor": 4
}
