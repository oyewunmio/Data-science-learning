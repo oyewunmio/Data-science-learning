{
 "cells": [
  {
   "cell_type": "code",
   "execution_count": 2,
   "metadata": {},
   "outputs": [],
   "source": [
    "# importing packages\n",
    "import pickle \n",
    "import numpy as np\n",
    "from sklearn import linear_model\n",
    "import sklearn.metrics as sm\n",
    "import matplotlib.pyplot as plt\n",
    "import os\n",
    "%matplotlib inline"
   ]
  },
  {
   "cell_type": "code",
   "execution_count": 5,
   "metadata": {},
   "outputs": [],
   "source": [
    "# loading the data\n",
    "os.chdir('/home/oyewunmi/Documents/My Codes/Artificial intelligence/Practice /dataset')\n",
    "input_file = 'data_singlevar_regr.txt'"
   ]
  },
  {
   "cell_type": "code",
   "execution_count": 7,
   "metadata": {},
   "outputs": [],
   "source": [
    "# reading the data\n",
    "data = np.loadtxt(input_file, delimiter=',')\n",
    "X, Y = data[:, :-1], data[:, -1]"
   ]
  },
  {
   "cell_type": "code",
   "execution_count": 8,
   "metadata": {},
   "outputs": [],
   "source": [
    "# splitting the data into training and testing 80 : 20 split\n",
    "training_no = int(0.8 * len(X))\n",
    "testing_no = int(0.2 * len(X))\n",
    "\n",
    "# picking Training data\n",
    "X_train, Y_train = X[:training_no], Y[:training_no]\n",
    "\n",
    "#picking Testing data\n",
    "X_test, Y_test = X[testing_no:], Y[testing_no:]"
   ]
  },
  {
   "cell_type": "code",
   "execution_count": 9,
   "metadata": {},
   "outputs": [
    {
     "data": {
      "text/plain": [
       "LinearRegression(copy_X=True, fit_intercept=True, n_jobs=None, normalize=False)"
      ]
     },
     "execution_count": 9,
     "metadata": {},
     "output_type": "execute_result"
    }
   ],
   "source": [
    "# creating the regressor model object\n",
    "regressor = linear_model.LinearRegression()\n",
    "\n",
    "# Training the model using the dataset\n",
    "regressor.fit(X_train, Y_train)\n"
   ]
  },
  {
   "cell_type": "code",
   "execution_count": 10,
   "metadata": {},
   "outputs": [],
   "source": [
    "# predict the output for the the testing dataset using the trained model\n",
    "Y_test_predict = regressor.predict(X_test)"
   ]
  },
  {
   "cell_type": "code",
   "execution_count": 11,
   "metadata": {},
   "outputs": [
    {
     "data": {
      "image/png": "[encoded data removed]",
      "text/plain": [
       "<Figure size 432x288 with 1 Axes>"
      ]
     },
     "metadata": {},
     "output_type": "display_data"
    }
   ],
   "source": [
    "# plotting the outputs\n",
    "plt.scatter(X_test, Y_test, color='green')\n",
    "plt.plot(X_test, Y_test_predict, color='black', linewidth=4)\n",
    "plt.xticks(())\n",
    "plt.yticks(())\n",
    "plt.show()"
   ]
  },
  {
   "cell_type": "code",
   "execution_count": 13,
   "metadata": {},
   "outputs": [
    {
     "name": "stdout",
     "output_type": "stream",
     "text": [
      "linear regressor performance\n",
      "Mean absolute error =  0.64\n",
      "Mean squared error =  0.62\n",
      "Median absolute error = 0.56\n",
      "Explain variance score = 0.87\n",
      "R2 score = 0.87\n"
     ]
    }
   ],
   "source": [
    "# computing the performance metrics\n",
    "print('linear regressor performance')\n",
    "print('Mean absolute error = ',round(sm.mean_absolute_error(Y_test, Y_test_predict),2))\n",
    "print('Mean squared error = ',round(sm.mean_squared_error(Y_test, Y_test_predict),2))\n",
    "print('Median absolute error =',round(sm.median_absolute_error(Y_test, Y_test_predict),2))\n",
    "print('Explain variance score =', round(sm.explained_variance_score(Y_test, Y_test_predict), 2))\n",
    "print(\"R2 score =\", round(sm.r2_score(Y_test, Y_test_predict), 2))"
   ]
  },
  {
   "cell_type": "code",
   "execution_count": 14,
   "metadata": {},
   "outputs": [],
   "source": [
    "# saving model to be used for later prediction\n",
    "# model persistence\n",
    "regressor_model_file = 'regressor_model.pkl'\n",
    "\n",
    "# save the model\n",
    "with open(regressor_model_file, 'wb') as f:\n",
    "    pickle.dump(regressor, f)\n"
   ]
  },
  {
   "cell_type": "code",
   "execution_count": 15,
   "metadata": {},
   "outputs": [],
   "source": [
    "# loading the saved model\n",
    "with open(regressor_model_file, 'rb') as f:\n",
    "    regressor_model = pickle.load(f)"
   ]
  },
  {
   "cell_type": "code",
   "execution_count": 16,
   "metadata": {},
   "outputs": [
    {
     "name": "stdout",
     "output_type": "stream",
     "text": [
      "\n",
      "New mean absolute error = 0.64\n"
     ]
    }
   ],
   "source": [
    "# perform prediction on test data\n",
    "Y_test_pred_new = regressor_model.predict(X_test)\n",
    "print(\"\\nNew mean absolute error =\", round(sm.mean_absolute_error(Y_test,Y_test_pred_new), 2))"
   ]
  },
  {
   "cell_type": "code",
   "execution_count": 1,
   "metadata": {},
   "outputs": [],
   "source": [
    "from numpy import *"
   ]
  },
  {
   "cell_type": "code",
   "execution_count": null,
   "metadata": {},
   "outputs": [],
   "source": []
  }
 ],
 "metadata": {
  "kernelspec": {
   "display_name": "Python 3",
   "language": "python",
   "name": "python3"
  },
  "language_info": {
   "codemirror_mode": {
    "name": "ipython",
    "version": 3
   },
   "file_extension": ".py",
   "mimetype": "text/x-python",
   "name": "python",
   "nbconvert_exporter": "python",
   "pygments_lexer": "ipython3",
   "version": "3.7.5"
  }
 },
 "nbformat": 4,
 "nbformat_minor": 4
}
