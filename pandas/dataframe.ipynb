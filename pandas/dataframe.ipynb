{
 "cells": [
  {
   "cell_type": "code",
   "execution_count": 2,
   "metadata": {},
   "outputs": [],
   "source": [
    "'''A pandas series can only have a single value associated with each index label. To have\n",
    "multiple values per index label we can use a data frame.'''\n",
    "'''A data frame represents one or more series objects aligned by index label. Each series will be a column in the data frame,\n",
    "and each column can have an associated name.'''\n",
    "'''A data frame is analogous to a relational database table in that it contains one or more columns of data of heterogeneous types (but a single\n",
    "type for all items in each respective column).'''\n",
    "\n",
    "# importing packages and codes snippet from previous lesson\n",
    "import pandas as pd\n",
    "\n",
    "dates_index = pd.date_range('2019-01-01', '2019-01-10')"
   ]
  },
  {
   "cell_type": "code",
   "execution_count": 3,
   "metadata": {},
   "outputs": [
    {
     "name": "stdout",
     "output_type": "stream",
     "text": [
      "            Akure  Lagos\n",
      "2019-01-01     78     48\n",
      "2019-01-02     89     39\n",
      "2019-01-03     45     42\n",
      "2019-01-04     67     76\n",
      "2019-01-05     67     37\n",
      "2019-01-06     58     28\n",
      "2019-01-07     48     48\n",
      "2019-01-08     83     93\n",
      "2019-01-09     87     21\n",
      "2019-01-10     34     60\n"
     ]
    },
    {
     "data": {
      "text/plain": [
       "'The resulting data frame has two columns named .Akure and Lagos . These\\ncolumns are new Series objects contained within the data frame with the values copied\\nfrom the original Series objects.'"
      ]
     },
     "execution_count": 3,
     "metadata": {},
     "output_type": "execute_result"
    }
   ],
   "source": [
    "# creating a dataframe from the two series objects temp1 and temp2\n",
    "# and give them column names\n",
    "# creating the series\n",
    "temp1 = pd.Series([78,89,45,67,67,58,48,83,87,34], index=dates_index)\n",
    "temp2 = pd.Series([48,39,42,76,37,28,48,93,21,60], index=dates_index)\n",
    "\n",
    "# creating the dataframe\n",
    "temp_df = pd.DataFrame({'Akure':temp1, 'Lagos':temp2})\n",
    "print(temp_df)\n",
    "\n",
    "'''The resulting data frame has two columns named .Akure and Lagos . These\n",
    "columns are new Series objects contained within the data frame with the values copied\n",
    "from the original Series objects.'''\n",
    "\n"
   ]
  },
  {
   "cell_type": "code",
   "execution_count": 4,
   "metadata": {},
   "outputs": [
    {
     "data": {
      "text/plain": [
       "'Note: There is a subtle difference in a Dataframe object as compared to a\\nSeries object. Passing a list to the [] operator of Dataframe retrieves the\\nspecified columns whereas a Series would return rows.'"
      ]
     },
     "execution_count": 4,
     "metadata": {},
     "output_type": "execute_result"
    }
   ],
   "source": [
    "'''Columns in a DataFrame object can be accessed using an array indexer [] with the name of\n",
    "the column or a list of column names. The following code retrieves the .Akure column:'''\n",
    "# get the column name with the name Akure\n",
    "temp_df['Akure']\n",
    "\n",
    "# get the column name with the name Lagos\n",
    "temp_df['Lagos']\n",
    "\n",
    "# returning both columns in a different order\n",
    "temp_df[['Lagos','Akure']]\n",
    "\n",
    "'''Note: There is a subtle difference in a Dataframe object as compared to a\n",
    "Series object. Passing a list to the [] operator of Dataframe retrieves the\n",
    "specified columns whereas a Series would return rows.'''"
   ]
  },
  {
   "cell_type": "code",
   "execution_count": 5,
   "metadata": {},
   "outputs": [
    {
     "data": {
      "text/plain": [
       "Index(['Akure', 'Lagos', 'Difference'], dtype='object')"
      ]
     },
     "execution_count": 5,
     "metadata": {},
     "output_type": "execute_result"
    }
   ],
   "source": [
    "# If the name of a column does not have spaces, it can be accessed using property-style:\n",
    "# retrieving the Lagos column through property syntax\n",
    "temp_df.Lagos\n",
    "\n",
    "'''Arithmetic operations between columns within a data frame are identical in operation to\n",
    "those on multiple Series . To demonstrate, the following code calculates the difference\n",
    "between temperatures using property notation:'''\n",
    "temp_diff = temp_df.Akure - temp_df.Lagos\n",
    "\n",
    "'''A new column can be added to Dataframe simply by assigning another Series to a\n",
    "column using the array indexer [] notation. The following adds a new column in the\n",
    "Dataframe with the temperature differences:'''\n",
    "temp_df['Difference'] = temp_diff\n",
    "\n",
    "'''The names of the columns in a Dataframe are accessible via the .columns property:'''\n",
    "# get the columns, which is also an Index object\n",
    "temp_df.columns"
   ]
  },
  {
   "cell_type": "code",
   "execution_count": 6,
   "metadata": {},
   "outputs": [
    {
     "data": {
      "text/plain": [
       "2019-01-02    50\n",
       "2019-01-03     3\n",
       "2019-01-04    -9\n",
       "Freq: D, Name: Difference, dtype: int64"
      ]
     },
     "execution_count": 6,
     "metadata": {},
     "output_type": "execute_result"
    }
   ],
   "source": [
    "# slicing the temp differences column for the rows at location\n",
    "# 1 through 4 (as though it as an array)\n",
    "temp_df.Difference[1:4]"
   ]
  },
  {
   "cell_type": "code",
   "execution_count": 10,
   "metadata": {
    "scrolled": true
   },
   "outputs": [
    {
     "data": {
      "text/plain": [
       "Akure         89\n",
       "Lagos         39\n",
       "Difference    50\n",
       "Name: 2019-01-02 00:00:00, dtype: int64"
      ]
     },
     "execution_count": 10,
     "metadata": {},
     "output_type": "execute_result"
    }
   ],
   "source": [
    "'''Entire rows from a data frame can be retrieved using the .loc and .iloc properties. .loc\n",
    "ensures that the lookup is by index label, \n",
    "where .iloc uses the 0-based position. -'''\n",
    "\n",
    "# gets the second row of the dataframe\n",
    "temp_df.iloc[1]\n",
    "'''Notice that this result has converted the row into a Series with the column names of the\n",
    "data frame pivoted into the index labels of the resulting Series'''\n",
    "\n",
    "# the names of the columns has become the index they have been pivoted\n",
    "temp_df.iloc[1].index\n",
    "\n",
    "# using the .loc property to get the row by the index label\n",
    "temp_df.loc['2019-01-02']"
   ]
  },
  {
   "cell_type": "code",
   "execution_count": null,
   "metadata": {},
   "outputs": [],
   "source": []
  }
 ],
 "metadata": {
  "kernelspec": {
   "display_name": "Python 3",
   "language": "python",
   "name": "python3"
  },
  "language_info": {
   "codemirror_mode": {
    "name": "ipython",
    "version": 3
   },
   "file_extension": ".py",
   "mimetype": "text/x-python",
   "name": "python",
   "nbconvert_exporter": "python",
   "pygments_lexer": "ipython3",
   "version": "3.7.5"
  }
 },
 "nbformat": 4,
 "nbformat_minor": 4
}
